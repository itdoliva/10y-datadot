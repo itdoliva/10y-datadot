{
 "cells": [
  {
   "cell_type": "code",
   "execution_count": 21,
   "id": "67892381-eeac-42f0-bb0f-dcb901230ce9",
   "metadata": {},
   "outputs": [],
   "source": [
    "import json\n",
    "import os\n",
    "import pandas as pd\n",
    "from google.oauth2 import service_account\n",
    "from googleapiclient.discovery import build"
   ]
  },
  {
   "cell_type": "code",
   "execution_count": 22,
   "id": "311407de-8afe-4263-9981-60573921d404",
   "metadata": {},
   "outputs": [],
   "source": [
    "SERVICE_ACCOUNT_FILE = 'service-key.json'\n",
    "SCOPES = ['https://www.googleapis.com/auth/spreadsheets']\n",
    "\n",
    "SPREADSHEET_ID = '1zA7EzmwMVJzWOrOHG7VlNnnBoLuQGcKD54wgBuivetY'\n",
    "MAIN_RANGE = 'Respostas do formulário!B1:L1000'\n",
    "INDS_RANGE = 'IndustryMapper!A1:B100'\n",
    "FIX_IND_RANGE = 'fix_industries!A1:M600'\n",
    "MASTER_RANGE = 'master!A1:M600'\n",
    "CAT_RANGE = 'categories!A1:Z100'"
   ]
  },
  {
   "cell_type": "code",
   "execution_count": 23,
   "id": "f6750a65-fb74-4583-8fbc-93e5fa75ae4a",
   "metadata": {},
   "outputs": [],
   "source": [
    "def get_service_client():\n",
    "    # Authenticate using the service account\n",
    "    credentials = service_account.Credentials.from_service_account_file(\n",
    "        SERVICE_ACCOUNT_FILE, scopes=SCOPES\n",
    "    )\n",
    "    \n",
    "    # Initialize the Google Sheets API service\n",
    "    service = build('sheets', 'v4', credentials=credentials)\n",
    "\n",
    "    return service"
   ]
  },
  {
   "cell_type": "code",
   "execution_count": 24,
   "id": "4e91ea04-cc7c-4380-9446-182884e62b9b",
   "metadata": {},
   "outputs": [],
   "source": [
    "def read_spreadsheet(service_client, range):\n",
    "    result = service_client.spreadsheets().values().get(spreadsheetId=SPREADSHEET_ID, range=range).execute()\n",
    "    values = result.get('values', [])\n",
    "    df = pd.DataFrame(values[1:], columns=values[0])\n",
    "    return df"
   ]
  },
  {
   "cell_type": "code",
   "execution_count": 25,
   "id": "b079e11a-b8d6-4fae-9685-54d45ca40825",
   "metadata": {},
   "outputs": [],
   "source": [
    "def clear_spreadsheet(service_client, range):\n",
    "    return service_client.spreadsheets().values().clear(\n",
    "        spreadsheetId=SPREADSHEET_ID,\n",
    "        range=range\n",
    "    ).execute()"
   ]
  },
  {
   "cell_type": "code",
   "execution_count": 26,
   "id": "a6a37a53-8f5e-4d72-a362-75b23c0eb135",
   "metadata": {},
   "outputs": [],
   "source": [
    "def append_spreadsheet(service_client, range, values):\n",
    "    return service_client.spreadsheets().values().append(\n",
    "        spreadsheetId=SPREADSHEET_ID, \n",
    "        range=range,\n",
    "        valueInputOption='RAW',\n",
    "        body={\"values\": values}\n",
    "    ).execute()"
   ]
  },
  {
   "cell_type": "code",
   "execution_count": 27,
   "id": "1c0a9e98-40af-4b19-bec2-c9e7a9e94939",
   "metadata": {},
   "outputs": [],
   "source": [
    "def df_to_list(df):\n",
    "    return [df.columns.tolist()] + df.values.tolist()"
   ]
  },
  {
   "cell_type": "code",
   "execution_count": 28,
   "id": "883d862c-63e4-4f64-b208-135f9a589fb1",
   "metadata": {},
   "outputs": [],
   "source": [
    "service = get_service_client()"
   ]
  },
  {
   "cell_type": "markdown",
   "id": "f7607258-e809-4594-8820-4740e0e193e9",
   "metadata": {},
   "source": [
    "### Standardize industry"
   ]
  },
  {
   "cell_type": "code",
   "execution_count": 29,
   "id": "b29e75e0-af71-47af-b28a-5faf997d6669",
   "metadata": {},
   "outputs": [],
   "source": [
    "main = read_spreadsheet(service, MAIN_RANGE)\n",
    "inds = read_spreadsheet(service, INDS_RANGE)"
   ]
  },
  {
   "cell_type": "code",
   "execution_count": 30,
   "id": "969bd871-ea72-43a2-9b28-4336733e3185",
   "metadata": {},
   "outputs": [],
   "source": [
    "# Clean incorrect industries\n",
    "fixed_industries = main.merge(inds, on=\"client_name\", suffixes=(\"\", \"_clean\"), how=\"left\")\n",
    "fixed_industries[\"client_industry\"] = fixed_industries.client_industry_clean.fillna(fixed_industries.client_industry)\n",
    "fixed_industries.drop(columns=[\"client_industry_clean\"], inplace=True)"
   ]
  },
  {
   "cell_type": "code",
   "execution_count": 31,
   "id": "6f8d19e0-06fb-44f3-8c83-8cb0c33ae941",
   "metadata": {},
   "outputs": [],
   "source": [
    "clear_spreadsheet(service, FIX_IND_RANGE)\n",
    "append_spreadsheet(service, FIX_IND_RANGE, df_to_list(fixed_industries));"
   ]
  },
  {
   "cell_type": "markdown",
   "id": "c36e993e-2401-4cfb-893d-98897bdaadd2",
   "metadata": {},
   "source": [
    "### Map categories"
   ]
  },
  {
   "cell_type": "code",
   "execution_count": 32,
   "id": "467b9799-d866-4d45-9fdb-dc1bf1de1c7f",
   "metadata": {},
   "outputs": [],
   "source": [
    "order = [\n",
    "    \"client\",\n",
    "    \"industry\",\n",
    "    \n",
    "    \"project\",\n",
    "    \"description\",\n",
    "    \"dt_start\",\n",
    "    \n",
    "    \"channel\", \n",
    "    \"product\",\n",
    "    \"design\",\n",
    "    \"goal\",\n",
    "\n",
    "    \"complexity\"\n",
    "]"
   ]
  },
  {
   "cell_type": "code",
   "execution_count": 33,
   "id": "c9dc9b51-c203-44e7-85ca-2eb02ee00c4d",
   "metadata": {},
   "outputs": [],
   "source": [
    "# Single-value categories\n",
    "industryMapper = {\n",
    "    \"Serviços e Tecnologia\": \"servicos-e-tecnologia\",\n",
    "    \"Educação\": \"educacao\",\n",
    "    \"Financeiro\": \"financeiro\",\n",
    "    \"ONGs e Orgs sociais e ambientais\": \"ongs-orgs\",\n",
    "    \"Consultorias\": \"consultorias\",\n",
    "    \"Comunicação e publicidade\": \"comunicacao\",\n",
    "    \"Jornalismo e editorial\": \"jornalismo\",\n",
    "    \"Pesquisa e tendências\": \"pesquisa\",\n",
    "    \n",
    "    'Bens de consumo': 'outros',\n",
    "    \"Automotivo\": 'outros',\n",
    "    \"Imobiliário\": 'outros',\n",
    "    \"Varejo\": 'outros',\n",
    "    'Saúde': 'outros',\n",
    "}\n",
    "\n",
    "channelMapper = {\n",
    "    \"midia digital\": \"digital\",\n",
    "    \"midia impressa\": \"impressa\",\n",
    "    \"consultoria_servico\": \"consultoria\"\n",
    "}\n",
    "\n",
    "\n",
    "# Multiple-values categories\n",
    "\n",
    "goalMapper = {\n",
    "    \"educacional\": \"educacional\",\n",
    "    \"informacional\": \"informacional\",\n",
    "    \"jornalistico editorial\": \"jornalistico-editorial\",\n",
    "    \"impacto positivo\": \"impacto-positivo\",\n",
    "    \"institucional\": \"institucional\"\n",
    "    \n",
    "}\n",
    "\n",
    "productMapper = {\n",
    "    \"video\": \"video\",\n",
    "    \"infografico\": \"infografico\",\n",
    "    \"publicacao\": \"publicacao\",\n",
    "    \"apresentacao\": \"apresentacao\",\n",
    "    \"site\\x03editorial\": \"site-editorial\",\n",
    "    \"site editorial\": \"site-editorial\",\n",
    "    \"site\\x03institucional\": \"site-institucional\",\n",
    "    \"site institucional\": \"site-institucional\",\n",
    "    \"relatorios\": \"relatorios\",\n",
    "    \"outras\\x03interfaces digitais\": \"outras-interfaces\",\n",
    "    \"outras interfaces digitais\": \"outras-interfaces\",\n",
    "}\n",
    "\n",
    "designMapper = {\n",
    "    'ilustracao': \"ilustracao\",\n",
    "    'infografia': \"infografia\",\n",
    "    'motion graphics': \"motion-graphics\",\n",
    "    'editorial': \"editorial\",\n",
    "    \"user interface\": \"user-interface\",\n",
    "    'datavis': \"datavis\",\n",
    "    'design de servicos': \"design-de-servicos\",\n",
    "}"
   ]
  },
  {
   "cell_type": "code",
   "execution_count": 34,
   "id": "eb03dbc2-ba03-4842-a3ab-7d5158f7d360",
   "metadata": {},
   "outputs": [],
   "source": [
    "def map_categories(series, mapper, multivalues=False):\n",
    "    if (multivalues):\n",
    "        return series.str.split(\", \").apply(lambda arr: [ mapper[val] for val in arr if val != \"\"]).astype(str)\n",
    "    else:\n",
    "        return series.apply(lambda val: mapper[val] if val != \"\" else None)"
   ]
  },
  {
   "cell_type": "code",
   "execution_count": 35,
   "id": "33305ccb-31c2-4d24-8017-473833415897",
   "metadata": {},
   "outputs": [],
   "source": [
    "to_map = read_spreadsheet(service, FIX_IND_RANGE)\n",
    "\n",
    "# Drop not-needed columns and rename the remaining ones\n",
    "to_map.drop(columns=[ \"tem mais de uma entrega\" ], inplace=True, errors='ignore')\n",
    "\n",
    "to_map.rename(columns={\n",
    "    \"complexity_level\": \"complexity\",\n",
    "    \"assignment_name\": \"description\",\n",
    "    \"tipo de mídia\": \"channel\",\n",
    "    \"product_type (selecionar apenas 1)\": \"product\",\n",
    "    \"design_category\": \"design\",\n",
    "    \"client_industry\": \"industry\",\n",
    "    \"client_name\": \"client\",\n",
    "    \"project_name\": \"project\"\n",
    "}, inplace=True)\n",
    "\n",
    "to_map[\"goal\"] = map_categories(to_map[\"goal\"], goalMapper, True)\n",
    "to_map[\"product\"] = map_categories(to_map[\"product\"], productMapper, True)\n",
    "to_map[\"design\"] = map_categories(to_map[\"design\"], designMapper, True)\n",
    "to_map[\"industry\"] = map_categories(to_map[\"industry\"], industryMapper)\n",
    "to_map[\"channel\"] = map_categories(to_map[\"channel\"], channelMapper)\n",
    "\n",
    "to_map = to_map[order]"
   ]
  },
  {
   "cell_type": "code",
   "execution_count": 36,
   "id": "c5de8b01-8076-4d84-8d19-955b1a7d3e8b",
   "metadata": {},
   "outputs": [],
   "source": [
    "clear_spreadsheet(service, MASTER_RANGE)\n",
    "append_spreadsheet(service, MASTER_RANGE, df_to_list(to_map));"
   ]
  },
  {
   "cell_type": "markdown",
   "id": "0627e0a5-3201-4d03-9ddd-fb3aad95651b",
   "metadata": {},
   "source": [
    "### Make categories tab"
   ]
  },
  {
   "cell_type": "code",
   "execution_count": 138,
   "id": "c8c8d712-66bd-4ec0-b53b-48b5c7f816b8",
   "metadata": {},
   "outputs": [],
   "source": [
    "from io import StringIO"
   ]
  },
  {
   "cell_type": "code",
   "execution_count": 139,
   "id": "d0bb257f-59db-468f-8bec-8200f7fe706f",
   "metadata": {},
   "outputs": [],
   "source": [
    "cat_string = '''\n",
    "type,name,data\n",
    "goal,educacional,\"{\"\"color\"\":\"\"#aed8ff\"\"}\"\n",
    "goal,informacional,\"{\"\"color\"\":\"\"#b4ffc5\"\"}\"\n",
    "goal,impacto-positivo,\"{\"\"color\"\":\"\"#fff1b6\"\"}\"\n",
    "goal,jornalistico-editorial,\"{\"\"color\"\":\"\"#ffe0be\"\"}\"\n",
    "goal,institucional,\"{\"\"color\"\":\"\"#b1f5ff\"\"}\"\n",
    "industry,servicos-e-tecnologia,{}\n",
    "industry,educacao,{}\n",
    "industry,financeiro,{}\n",
    "industry,ongs-orgs,{}\n",
    "industry,consultorias,{}\n",
    "industry,comunicacao,{}\n",
    "industry,jornalismo,{}\n",
    "industry,pesquisa,{}\n",
    "industry,outros,{}\n",
    "channel,digital,{}\n",
    "channel,impresso,{}\n",
    "channel,consultoria,{}\n",
    "product,site-editorial,{}\n",
    "product,outras-interfaces,{}\n",
    "product,relatorios,{}\n",
    "product,apresentacao,{}\n",
    "product,infografico,{}\n",
    "product,publicacao,{}\n",
    "product,site-institucional,{}\n",
    "product,video,{}\n",
    "design,user-interface,{}\n",
    "design,datavis,{}\n",
    "design,ilustracao,{}\n",
    "design,design-de-servicos,{}\n",
    "design,editorial,{}\n",
    "design,infografia,{}\n",
    "design,motion-graphics,{}\n",
    "'''"
   ]
  },
  {
   "cell_type": "code",
   "execution_count": 140,
   "id": "5513241a-eb7a-462e-8ff7-54cbba234af4",
   "metadata": {
    "scrolled": true
   },
   "outputs": [],
   "source": [
    "categories = pd.read_csv(StringIO(cat_string))\n",
    "\n",
    "clear_spreadsheet(service, CAT_RANGE)\n",
    "append_spreadsheet(service, CAT_RANGE, df_to_list(categories));"
   ]
  }
 ],
 "metadata": {
  "kernelspec": {
   "display_name": "Python 3 (ipykernel)",
   "language": "python",
   "name": "python3"
  },
  "language_info": {
   "codemirror_mode": {
    "name": "ipython",
    "version": 3
   },
   "file_extension": ".py",
   "mimetype": "text/x-python",
   "name": "python",
   "nbconvert_exporter": "python",
   "pygments_lexer": "ipython3",
   "version": "3.11.7"
  }
 },
 "nbformat": 4,
 "nbformat_minor": 5
}
